{
 "cells": [
  {
   "cell_type": "code",
   "execution_count": 1,
   "metadata": {},
   "outputs": [],
   "source": [
    "import torch\n",
    "import numpy as np\n",
    "import matplotlib.pyplot as plt\n",
    "\n",
    "from pathlib import Path\n",
    "import os, sys\n",
    "\n",
    "# Load StarCraft2Sensor stuff\n",
    "ipynb_dir = os.path.dirname(os.path.realpath(\"__file__\"))\n",
    "model_dir = os.path.join(ipynb_dir, 'models')\n",
    "if not os.path.exists(model_dir):\n",
    "    os.makedirs(model_dir)\n",
    "code_root = os.path.join(ipynb_dir, '..')\n",
    "sys.path.append(code_root)  # Needed for import below\n",
    "\n",
    "from sc2sensor.dataset import StarCraftSensor\n",
    "from sc2sensor.utils.unit_type_data import NONNEUTRAL_CHANNEL_TO_ID, NONNEUTRAL_ID_TO_NAME\n",
    "CHANNEL_TO_NAME = [NONNEUTRAL_ID_TO_NAME[NONNEUTRAL_CHANNEL_TO_ID[i]] for i in range(len(NONNEUTRAL_CHANNEL_TO_ID))]\n",
    "\n",
    "data_root = os.path.join(code_root, 'data') # Data root directory\n",
    "data_subdir = 'starcraft-sensor-dataset'"
   ]
  },
  {
   "cell_type": "code",
   "execution_count": 2,
   "metadata": {},
   "outputs": [],
   "source": [
    "# importing * from fast ai \n",
    "from fastai.data.all import DataBlock, RandomSplitter\n",
    "from fastai.vision.all import get_image_files, ImageBlock, MaskBlock\n",
    "\n",
    "from fastai.vision.all import *\n",
    "from fastai.callback.all import SaveModelCallback, EarlyStoppingCallback\n",
    "from fastai.distributed import *\n",
    "from accelerate import notebook_launcher"
   ]
  },
  {
   "cell_type": "code",
   "execution_count": 3,
   "metadata": {},
   "outputs": [],
   "source": [
    "def train(name, arch, path_to_images, shared_kwargs, batch_size=256):\n",
    "    # setting up dataloader\n",
    "    sc2_segment = DataBlock(\n",
    "          blocks=(ImageBlock, MaskBlock(codes=CHANNEL_TO_NAME)),\n",
    "          get_items=get_image_files,\n",
    "          #get_y=lambda filename: segment_train_path / (os.path.splitext(filename)[0] + '_labels.png'),\n",
    "          get_y=lambda filename: (os.path.splitext(filename)[0].replace('images','labels') + '_labels.png'),\n",
    "          splitter=RandomSplitter(seed=0),\n",
    "          batch_tfms=None)\n",
    "    dls = sc2_segment.dataloaders(path_to_images, shuffle=True, bs=batch_size)\n",
    "    \n",
    "    # initalize model\n",
    "    learner = unet_learner(arch=arch, dls=dls, **shared_kwargs)\n",
    "    \n",
    "    # initalize training hoooks\n",
    "    callbacks = [EarlyStoppingCallback(patience=1),\n",
    "                 SaveModelCallback(fname=name, every_epoch=True)]\n",
    "    \n",
    "    # distributed learning\n",
    "    with learner.distrib_ctx(sync_bn=False, in_notebook=True):\n",
    "        learner.fine_tune(100, cbs=callbacks)\n",
    "        \n",
    "    print(f'Finished with {name}!')\n",
    "    return None"
   ]
  },
  {
   "cell_type": "code",
   "execution_count": 5,
   "metadata": {
    "scrolled": false
   },
   "outputs": [
    {
     "ename": "SyntaxError",
     "evalue": "invalid syntax (1982565204.py, line 15)",
     "output_type": "error",
     "traceback": [
      "\u001b[0;36m  File \u001b[0;32m\"/tmp/ipykernel_3969/1982565204.py\"\u001b[0;36m, line \u001b[0;32m15\u001b[0m\n\u001b[0;31m    ('unet_densenet169', densenet169, batch_size=128),\u001b[0m\n\u001b[0m                                                ^\u001b[0m\n\u001b[0;31mSyntaxError\u001b[0m\u001b[0;31m:\u001b[0m invalid syntax\n"
     ]
    }
   ],
   "source": [
    "segment_size = 'segment_small'\n",
    "segment_path = Path(os.path.join(data_root, data_subdir, segment_size))\n",
    "shared_kwargs = dict(path=Path(code_root), model_dir='models')\n",
    "\n",
    "experiments = [\n",
    "# #   ('unet_resnet18', resnet18, 512),\n",
    "#   ('unet_resnet34', resnet34, 512),\n",
    "# #   ('unet_resnet50', resnet50, 512),\n",
    "# #   ('unet_xresnet18', xresnet18_deep, 512),\n",
    "#   ('unet_xresnet34', xresnet34_deep, 512),\n",
    "# #   ('unet_xresnet50', xresnet50_deep, 350),\n",
    "#    ('unet_squeezenet1_0', squeezenet1_0, 350),\n",
    "#   ('unet_squeezenet1_1', squeezenet1_1, 350),\n",
    "# #   ('unet_densenet121', densenet121, 128),\n",
    "  ('unet_densenet169', densenet169, 128),\n",
    "# #   ('unet_densenet201', densenet201, 128),\n",
    "]\n",
    "®\n",
    "for name, arch, batch_size in experiments:\n",
    "    print(f'Starting {name}.')\n",
    "    notebook_launcher(train, (name, arch, segment_path/'train'/'images', shared_kwargs, batch_size),\n",
    "                      num_processes=2)\n",
    "    print('\\n'*5)"
   ]
  },
  {
   "cell_type": "markdown",
   "metadata": {},
   "source": [
    "#  Old Stuff \n",
    "---"
   ]
  },
  {
   "cell_type": "code",
   "execution_count": 1,
   "metadata": {},
   "outputs": [],
   "source": [
    "# import torch\n",
    "# import numpy as np\n",
    "# import matplotlib.pyplot as plt\n",
    "\n",
    "# from pathlib import Path\n",
    "# import os, sys\n",
    "\n",
    "# # Load StarCraft2Sensor stuff\n",
    "# ipynb_dir = os.path.dirname(os.path.realpath(\"__file__\"))\n",
    "# model_dir = os.path.join(ipynb_dir, 'models')\n",
    "# if not os.path.exists(model_dir):\n",
    "#     os.makedirs(model_dir)\n",
    "# code_root = os.path.join(ipynb_dir, '..')\n",
    "# sys.path.append(code_root)  # Needed for import below\n",
    "\n",
    "# from sc2sensor.dataset import StarCraftSensor\n",
    "# from sc2sensor.utils.unit_type_data import NONNEUTRAL_CHANNEL_TO_ID, NONNEUTRAL_ID_TO_NAME\n",
    "# CHANNEL_TO_NAME = [NONNEUTRAL_ID_TO_NAME[NONNEUTRAL_CHANNEL_TO_ID[i]] for i in range(len(NONNEUTRAL_CHANNEL_TO_ID))]\n",
    "\n",
    "# data_root = os.path.join(code_root, 'data') # Data root directory\n",
    "# data_subdir = 'starcraft-sensor-dataset'"
   ]
  },
  {
   "cell_type": "code",
   "execution_count": 2,
   "metadata": {
    "scrolled": false
   },
   "outputs": [
    {
     "data": {
      "image/png": "[encoded data removed]",
      "text/plain": [
       "<Figure size 864x432 with 8 Axes>"
      ]
     },
     "metadata": {
      "needs_background": "light"
     },
     "output_type": "display_data"
    }
   ],
   "source": [
    "# # Create datablock\n",
    "# from fastai.data.all import DataBlock, RandomSplitter\n",
    "# from fastai.vision.all import get_image_files, ImageBlock, MaskBlock\n",
    "\n",
    "# sc2_segment = DataBlock(\n",
    "#   blocks=(ImageBlock, MaskBlock(codes=CHANNEL_TO_NAME)),\n",
    "#   get_items=get_image_files,\n",
    "#   #get_y=lambda filename: segment_train_path / (os.path.splitext(filename)[0] + '_labels.png'),\n",
    "#   get_y=lambda filename: (os.path.splitext(filename)[0].replace('images','labels') + '_labels.png'),\n",
    "#   splitter=RandomSplitter(seed=0),\n",
    "#   batch_tfms=None)\n",
    "\n",
    "# segment_size = 'segment'\n",
    "# segment_path = Path(os.path.join(data_root, data_subdir, segment_size))\n",
    "# dls = sc2_segment.dataloaders(segment_path/'train'/'images', shuffle=True, bs=64)\n",
    "# dls.show_batch(max_n=8)"
   ]
  },
  {
   "cell_type": "code",
   "execution_count": null,
   "metadata": {},
   "outputs": [],
   "source": [
    "# learner.validate() # Uses validation set"
   ]
  },
  {
   "cell_type": "code",
   "execution_count": null,
   "metadata": {
    "scrolled": false
   },
   "outputs": [],
   "source": [
    "# # HACK: Put all instances in both \"train\" and \"valid\"\n",
    "# # From https://forums.fast.ai/t/solved-not-splitting-datablock/84759/3\n",
    "# def all_splitter(o): return L(int(i) for i in range(len(o))), L(int(i) for i in range(len(o)))\n",
    "\n",
    "# sc2_segment_test = DataBlock(\n",
    "#   blocks=(ImageBlock, MaskBlock(codes=CHANNEL_TO_NAME)),\n",
    "#   get_items=get_image_files,\n",
    "#   #get_y=lambda filename: segment_train_path / (os.path.splitext(filename)[0] + '_labels.png'),\n",
    "#   get_y=lambda filename: (os.path.splitext(filename)[0].replace('images','labels') + '_labels.png'),\n",
    "#   splitter=all_splitter,\n",
    "#   batch_tfms=None)\n",
    "\n",
    "# test_dls = sc2_segment_test.dataloaders(segment_path/'test'/'images', shuffle=False, bs=64)\n",
    "# learner.validate(dl=test_dls.valid) # Uses validation set"
   ]
  },
  {
   "cell_type": "code",
   "execution_count": null,
   "metadata": {},
   "outputs": [],
   "source": [
    "# learner.show_results(max_n=4, figsize=(7,8))"
   ]
  },
  {
   "cell_type": "code",
   "execution_count": null,
   "metadata": {},
   "outputs": [],
   "source": [
    "# from fastai.vision.all import SegmentationInterpretation\n",
    "# interp = SegmentationInterpretation.from_learner(learner)\n",
    "# interp.plot_top_losses(k=3, largest=False)\n",
    "# interp.plot_top_losses(k=3, largest=True)"
   ]
  }
 ],
 "metadata": {
  "kernelspec": {
   "display_name": "Python [conda env:starcraft] *",
   "language": "python",
   "name": "conda-env-starcraft-py"
  },
  "language_info": {
   "codemirror_mode": {
    "name": "ipython",
    "version": 3
   },
   "file_extension": ".py",
   "mimetype": "text/x-python",
   "name": "python",
   "nbconvert_exporter": "python",
   "pygments_lexer": "ipython3",
   "version": "3.7.13"
  }
 },
 "nbformat": 4,
 "nbformat_minor": 1
}
