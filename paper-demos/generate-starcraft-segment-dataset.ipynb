{
 "cells": [
  {
   "cell_type": "code",
   "execution_count": 1,
   "metadata": {},
   "outputs": [
    {
     "name": "stdout",
     "output_type": "stream",
     "text": [
      "cuda\n"
     ]
    }
   ],
   "source": [
    "import torch\n",
    "from torch import nn\n",
    "import torch.nn.functional as F\n",
    "import torchvision\n",
    "import torchvision.transforms as transforms\n",
    "import numpy as np\n",
    "\n",
    "from pathlib import Path\n",
    "import os, sys\n",
    "# Load StarCraft2Sensor stuff\n",
    "ipynb_dir = os.path.dirname(os.path.realpath(\"__file__\"))\n",
    "model_dir = os.path.join(ipynb_dir, 'models')\n",
    "if not os.path.exists(model_dir):\n",
    "    os.makedirs(model_dir)\n",
    "code_root = os.path.join(ipynb_dir, '..')\n",
    "sys.path.append(code_root)  # Needed for import below\n",
    "\n",
    "from sc2sensor.dataset import StarCraftSensor\n",
    "from sc2sensor.dataset import LABELS_DICT, DEFAULT_10\n",
    "from sc2sensor.utils.image_utils import imshow\n",
    "\n",
    "\n",
    "root = os.path.join(code_root, 'data') # Data root directory\n",
    "subdir = 'starcraft-sensor-dataset'\n",
    "model_root_dir = model_dir\n",
    "\n",
    "IMAGE_SIZE = [3, 32, 32]\n",
    "device = torch.device('cuda' if torch.cuda.is_available() else 'cpu')\n",
    "print(device)"
   ]
  },
  {
   "cell_type": "code",
   "execution_count": 2,
   "metadata": {},
   "outputs": [],
   "source": [
    "# Extract data for segmentation task\n",
    "def get_sc2_image_and_unit_ids(dataset, idx):\n",
    "  data_dict = dataset[idx]\n",
    "  \n",
    "  # Argmax over all players to get max value and max unit ids\n",
    "  def flatten(p):\n",
    "    max_idx = torch.argmax(data_dict[f'{p}_unit_values'], dim=0, keepdim=True) # (1, 64, 64)\n",
    "    max_values = torch.gather(data_dict[f'{p}_unit_values'], dim=0, index=max_idx)\n",
    "    max_values2 = torch.max(data_dict[f'{p}_unit_values'], dim=0, keepdim=True)[0] # (1, 64, 64)\n",
    "    assert torch.all(max_values==max_values2), 'Max not working as expected'\n",
    "    max_unit_ids = torch.gather(data_dict[f'{p}_unit_ids'], dim=0, index=max_idx) # (1, 64, 64)\n",
    "    return max_values, max_unit_ids\n",
    "  \n",
    "  players = ['player_2', 'neutral', 'player_1'] # To match RGB channels\n",
    "  player_data = [flatten(p) for p in players]\n",
    "  \n",
    "  # Convert to color image\n",
    "  image, mask = [\n",
    "    torch.cat([\n",
    "      (d[i]*0.2 if (p == 'neutral' and i == 0) else d[i])\n",
    "      for p, d in zip(players, player_data)\n",
    "    ], dim=0)\n",
    "    for i in range(2)\n",
    "  ]\n",
    "  \n",
    "  # Argmax both players to get single player unit ids over mask\n",
    "  max_idx = torch.argmax(image[[0,2]], dim=0, keepdim=True) # (1, 64, 64)\n",
    "  unit_ids = torch.gather(mask[[0,2]], dim=0, index=max_idx) # (1, 64, 64)\n",
    "  return image, unit_ids"
   ]
  },
  {
   "cell_type": "code",
   "execution_count": 3,
   "metadata": {},
   "outputs": [
    {
     "name": "stdout",
     "output_type": "stream",
     "text": [
      "Using cached CSV metadata\n",
      "Using cached CSV metadata\n",
      "1252866\n",
      "138465\n"
     ]
    }
   ],
   "source": [
    "# Currently slow as it creates some extra columns I think\n",
    "sc2_train = StarCraftSensor(root, subdir, train=True, use_sparse=False)\n",
    "sc2_test = StarCraftSensor(root, subdir, train=False, use_sparse=False)\n",
    "# Note it is filtered 90% 10% by *matches* so not exactly 90-10 split for num of windows\n",
    "print(len(sc2_train)) \n",
    "print(len(sc2_test))"
   ]
  },
  {
   "cell_type": "code",
   "execution_count": 10,
   "metadata": {
    "scrolled": false
   },
   "outputs": [
    {
     "name": "stdout",
     "output_type": "stream",
     "text": [
      "Automatic pdb calling has been turned ON\n",
      "Warning: Probably should use window_idx instead of frame_idx but using frame_idx for now.\n"
     ]
    },
    {
     "data": {
      "application/vnd.jupyter.widget-view+json": {
       "model_id": "14d4beb920c843d3b1c69f7ae88632ac",
       "version_major": 2,
       "version_minor": 0
      },
      "text/plain": [
       "Datasets:   0%|          | 0/2 [00:00<?, ?it/s]"
      ]
     },
     "metadata": {},
     "output_type": "display_data"
    },
    {
     "data": {
      "application/vnd.jupyter.widget-view+json": {
       "model_id": "db74a078cef34a918b3a11bdd6df41e3",
       "version_major": 2,
       "version_minor": 0
      },
      "text/plain": [
       "Chunks:   0%|          | 0/126 [00:00<?, ?it/s]"
      ]
     },
     "metadata": {},
     "output_type": "display_data"
    },
    {
     "data": {
      "application/vnd.jupyter.widget-view+json": {
       "model_id": "56413bfa4ea848d9a9747cf17c54c7d2",
       "version_major": 2,
       "version_minor": 0
      },
      "text/plain": [
       "Windows:   0%|          | 0/10000 [00:00<?, ?it/s]"
      ]
     },
     "metadata": {},
     "output_type": "display_data"
    },
    {
     "data": {
      "application/vnd.jupyter.widget-view+json": {
       "model_id": "c7e2ef84e2ef4a87b45a91823f8d935d",
       "version_major": 2,
       "version_minor": 0
      },
      "text/plain": [
       "Windows:   0%|          | 0/10000 [00:00<?, ?it/s]"
      ]
     },
     "metadata": {},
     "output_type": "display_data"
    },
    {
     "data": {
      "application/vnd.jupyter.widget-view+json": {
       "model_id": "ad6ca3a0b7d6469396627b11f44e2095",
       "version_major": 2,
       "version_minor": 0
      },
      "text/plain": [
       "Windows:   0%|          | 0/10000 [00:00<?, ?it/s]"
      ]
     },
     "metadata": {},
     "output_type": "display_data"
    },
    {
     "data": {
      "application/vnd.jupyter.widget-view+json": {
       "model_id": "9d94e9df6901493eb0d99dde87d22d20",
       "version_major": 2,
       "version_minor": 0
      },
      "text/plain": [
       "Windows:   0%|          | 0/10000 [00:00<?, ?it/s]"
      ]
     },
     "metadata": {},
     "output_type": "display_data"
    },
    {
     "data": {
      "application/vnd.jupyter.widget-view+json": {
       "model_id": "3326318655424ac195fc8937c37fed2d",
       "version_major": 2,
       "version_minor": 0
      },
      "text/plain": [
       "Windows:   0%|          | 0/10000 [00:00<?, ?it/s]"
      ]
     },
     "metadata": {},
     "output_type": "display_data"
    },
    {
     "data": {
      "application/vnd.jupyter.widget-view+json": {
       "model_id": "01c24da84fec4338b09c952cb069a421",
       "version_major": 2,
       "version_minor": 0
      },
      "text/plain": [
       "Windows:   0%|          | 0/10000 [00:00<?, ?it/s]"
      ]
     },
     "metadata": {},
     "output_type": "display_data"
    },
    {
     "data": {
      "application/vnd.jupyter.widget-view+json": {
       "model_id": "69156ef6501e4121aae5403fbef76354",
       "version_major": 2,
       "version_minor": 0
      },
      "text/plain": [
       "Windows:   0%|          | 0/10000 [00:00<?, ?it/s]"
      ]
     },
     "metadata": {},
     "output_type": "display_data"
    },
    {
     "data": {
      "application/vnd.jupyter.widget-view+json": {
       "model_id": "30d194b59cf24e2fbb3dc16633ba77b8",
       "version_major": 2,
       "version_minor": 0
      },
      "text/plain": [
       "Windows:   0%|          | 0/10000 [00:00<?, ?it/s]"
      ]
     },
     "metadata": {},
     "output_type": "display_data"
    },
    {
     "data": {
      "application/vnd.jupyter.widget-view+json": {
       "model_id": "69783b950dfd4395aec69c6185235124",
       "version_major": 2,
       "version_minor": 0
      },
      "text/plain": [
       "Windows:   0%|          | 0/10000 [00:00<?, ?it/s]"
      ]
     },
     "metadata": {},
     "output_type": "display_data"
    },
    {
     "data": {
      "application/vnd.jupyter.widget-view+json": {
       "model_id": "6524169b100d489aaacd764185e58e0f",
       "version_major": 2,
       "version_minor": 0
      },
      "text/plain": [
       "Windows:   0%|          | 0/10000 [00:00<?, ?it/s]"
      ]
     },
     "metadata": {},
     "output_type": "display_data"
    },
    {
     "data": {
      "application/vnd.jupyter.widget-view+json": {
       "model_id": "d9c33d674fbe4a698e049d54ea8feeeb",
       "version_major": 2,
       "version_minor": 0
      },
      "text/plain": [
       "Windows:   0%|          | 0/10000 [00:00<?, ?it/s]"
      ]
     },
     "metadata": {},
     "output_type": "display_data"
    },
    {
     "data": {
      "application/vnd.jupyter.widget-view+json": {
       "model_id": "9588aa3c886c4baa94437d27d3086de6",
       "version_major": 2,
       "version_minor": 0
      },
      "text/plain": [
       "Windows:   0%|          | 0/10000 [00:00<?, ?it/s]"
      ]
     },
     "metadata": {},
     "output_type": "display_data"
    },
    {
     "data": {
      "application/vnd.jupyter.widget-view+json": {
       "model_id": "64eb960c60674a3d9eed147b675ff1d4",
       "version_major": 2,
       "version_minor": 0
      },
      "text/plain": [
       "Windows:   0%|          | 0/10000 [00:00<?, ?it/s]"
      ]
     },
     "metadata": {},
     "output_type": "display_data"
    },
    {
     "data": {
      "application/vnd.jupyter.widget-view+json": {
       "model_id": "5eff03fc04df42838dcbb3bd13d76e9e",
       "version_major": 2,
       "version_minor": 0
      },
      "text/plain": [
       "Windows:   0%|          | 0/10000 [00:00<?, ?it/s]"
      ]
     },
     "metadata": {},
     "output_type": "display_data"
    },
    {
     "data": {
      "application/vnd.jupyter.widget-view+json": {
       "model_id": "2d8a1d27efa64860a644caa6e25860c1",
       "version_major": 2,
       "version_minor": 0
      },
      "text/plain": [
       "Windows:   0%|          | 0/10000 [00:00<?, ?it/s]"
      ]
     },
     "metadata": {},
     "output_type": "display_data"
    },
    {
     "data": {
      "application/vnd.jupyter.widget-view+json": {
       "model_id": "068dff0b5d4d4d57b391b208bd3dd4a1",
       "version_major": 2,
       "version_minor": 0
      },
      "text/plain": [
       "Windows:   0%|          | 0/10000 [00:00<?, ?it/s]"
      ]
     },
     "metadata": {},
     "output_type": "display_data"
    },
    {
     "data": {
      "application/vnd.jupyter.widget-view+json": {
       "model_id": "458af8ab019f455c80686cd97d2dd041",
       "version_major": 2,
       "version_minor": 0
      },
      "text/plain": [
       "Windows:   0%|          | 0/10000 [00:00<?, ?it/s]"
      ]
     },
     "metadata": {},
     "output_type": "display_data"
    },
    {
     "data": {
      "application/vnd.jupyter.widget-view+json": {
       "model_id": "8029347f872d4d74ac25b2e8abc036b8",
       "version_major": 2,
       "version_minor": 0
      },
      "text/plain": [
       "Windows:   0%|          | 0/10000 [00:00<?, ?it/s]"
      ]
     },
     "metadata": {},
     "output_type": "display_data"
    },
    {
     "data": {
      "application/vnd.jupyter.widget-view+json": {
       "model_id": "771cfc0aafd8494fab2633659e8a45e3",
       "version_major": 2,
       "version_minor": 0
      },
      "text/plain": [
       "Windows:   0%|          | 0/10000 [00:00<?, ?it/s]"
      ]
     },
     "metadata": {},
     "output_type": "display_data"
    },
    {
     "data": {
      "application/vnd.jupyter.widget-view+json": {
       "model_id": "d02b131e2a9c40749bef7e9c71154cfa",
       "version_major": 2,
       "version_minor": 0
      },
      "text/plain": [
       "Windows:   0%|          | 0/10000 [00:00<?, ?it/s]"
      ]
     },
     "metadata": {},
     "output_type": "display_data"
    },
    {
     "data": {
      "application/vnd.jupyter.widget-view+json": {
       "model_id": "4317ada817304eb89954346030507f0f",
       "version_major": 2,
       "version_minor": 0
      },
      "text/plain": [
       "Windows:   0%|          | 0/10000 [00:00<?, ?it/s]"
      ]
     },
     "metadata": {},
     "output_type": "display_data"
    },
    {
     "data": {
      "application/vnd.jupyter.widget-view+json": {
       "model_id": "8db0d38d72e2424ab038f363dbe32980",
       "version_major": 2,
       "version_minor": 0
      },
      "text/plain": [
       "Windows:   0%|          | 0/10000 [00:00<?, ?it/s]"
      ]
     },
     "metadata": {},
     "output_type": "display_data"
    },
    {
     "data": {
      "application/vnd.jupyter.widget-view+json": {
       "model_id": "6d40992a8efb42ee9998c8ab0df40f21",
       "version_major": 2,
       "version_minor": 0
      },
      "text/plain": [
       "Windows:   0%|          | 0/10000 [00:00<?, ?it/s]"
      ]
     },
     "metadata": {},
     "output_type": "display_data"
    },
    {
     "data": {
      "application/vnd.jupyter.widget-view+json": {
       "model_id": "ae989018ec104cdd9a4663dc1112c9cd",
       "version_major": 2,
       "version_minor": 0
      },
      "text/plain": [
       "Windows:   0%|          | 0/10000 [00:00<?, ?it/s]"
      ]
     },
     "metadata": {},
     "output_type": "display_data"
    },
    {
     "data": {
      "application/vnd.jupyter.widget-view+json": {
       "model_id": "5c351ee3c5d44ebbba1422bd4f2292b2",
       "version_major": 2,
       "version_minor": 0
      },
      "text/plain": [
       "Windows:   0%|          | 0/10000 [00:00<?, ?it/s]"
      ]
     },
     "metadata": {},
     "output_type": "display_data"
    },
    {
     "data": {
      "application/vnd.jupyter.widget-view+json": {
       "model_id": "85867354951e4116a1b977a82d64cffd",
       "version_major": 2,
       "version_minor": 0
      },
      "text/plain": [
       "Windows:   0%|          | 0/10000 [00:00<?, ?it/s]"
      ]
     },
     "metadata": {},
     "output_type": "display_data"
    },
    {
     "data": {
      "application/vnd.jupyter.widget-view+json": {
       "model_id": "8fb2e598457249388310f4b5e01e489e",
       "version_major": 2,
       "version_minor": 0
      },
      "text/plain": [
       "Windows:   0%|          | 0/10000 [00:00<?, ?it/s]"
      ]
     },
     "metadata": {},
     "output_type": "display_data"
    },
    {
     "data": {
      "application/vnd.jupyter.widget-view+json": {
       "model_id": "e77f42e7314b47dca5b28eeec1e0548d",
       "version_major": 2,
       "version_minor": 0
      },
      "text/plain": [
       "Windows:   0%|          | 0/10000 [00:00<?, ?it/s]"
      ]
     },
     "metadata": {},
     "output_type": "display_data"
    },
    {
     "data": {
      "application/vnd.jupyter.widget-view+json": {
       "model_id": "c3796f1500bd4642a331c8946ae161d2",
       "version_major": 2,
       "version_minor": 0
      },
      "text/plain": [
       "Windows:   0%|          | 0/10000 [00:00<?, ?it/s]"
      ]
     },
     "metadata": {},
     "output_type": "display_data"
    },
    {
     "data": {
      "application/vnd.jupyter.widget-view+json": {
       "model_id": "4d29c818a6b241ac845cd4a576774657",
       "version_major": 2,
       "version_minor": 0
      },
      "text/plain": [
       "Windows:   0%|          | 0/10000 [00:00<?, ?it/s]"
      ]
     },
     "metadata": {},
     "output_type": "display_data"
    },
    {
     "data": {
      "application/vnd.jupyter.widget-view+json": {
       "model_id": "476a627952d34e0985a36a0a9602df62",
       "version_major": 2,
       "version_minor": 0
      },
      "text/plain": [
       "Windows:   0%|          | 0/10000 [00:00<?, ?it/s]"
      ]
     },
     "metadata": {},
     "output_type": "display_data"
    },
    {
     "data": {
      "application/vnd.jupyter.widget-view+json": {
       "model_id": "ffd17430eebb41d48daee0dfd4b17c42",
       "version_major": 2,
       "version_minor": 0
      },
      "text/plain": [
       "Windows:   0%|          | 0/10000 [00:00<?, ?it/s]"
      ]
     },
     "metadata": {},
     "output_type": "display_data"
    },
    {
     "data": {
      "application/vnd.jupyter.widget-view+json": {
       "model_id": "7aa58613f3a44c24ba4dd8f1ed68c5dc",
       "version_major": 2,
       "version_minor": 0
      },
      "text/plain": [
       "Windows:   0%|          | 0/10000 [00:00<?, ?it/s]"
      ]
     },
     "metadata": {},
     "output_type": "display_data"
    },
    {
     "data": {
      "application/vnd.jupyter.widget-view+json": {
       "model_id": "9168a1b0e465401c82e2e2bb221d12fe",
       "version_major": 2,
       "version_minor": 0
      },
      "text/plain": [
       "Windows:   0%|          | 0/10000 [00:00<?, ?it/s]"
      ]
     },
     "metadata": {},
     "output_type": "display_data"
    },
    {
     "data": {
      "application/vnd.jupyter.widget-view+json": {
       "model_id": "831f9a09f84b491cafaa13159babb015",
       "version_major": 2,
       "version_minor": 0
      },
      "text/plain": [
       "Windows:   0%|          | 0/10000 [00:00<?, ?it/s]"
      ]
     },
     "metadata": {},
     "output_type": "display_data"
    },
    {
     "data": {
      "application/vnd.jupyter.widget-view+json": {
       "model_id": "d048f1668f254daf97d86698b64fe3ff",
       "version_major": 2,
       "version_minor": 0
      },
      "text/plain": [
       "Windows:   0%|          | 0/10000 [00:00<?, ?it/s]"
      ]
     },
     "metadata": {},
     "output_type": "display_data"
    },
    {
     "data": {
      "application/vnd.jupyter.widget-view+json": {
       "model_id": "be473511d90b48d6bd5a1ce0e043d604",
       "version_major": 2,
       "version_minor": 0
      },
      "text/plain": [
       "Windows:   0%|          | 0/10000 [00:00<?, ?it/s]"
      ]
     },
     "metadata": {},
     "output_type": "display_data"
    },
    {
     "data": {
      "application/vnd.jupyter.widget-view+json": {
       "model_id": "7536c74d5fca40209b5735c7c66a70ed",
       "version_major": 2,
       "version_minor": 0
      },
      "text/plain": [
       "Windows:   0%|          | 0/10000 [00:00<?, ?it/s]"
      ]
     },
     "metadata": {},
     "output_type": "display_data"
    },
    {
     "data": {
      "application/vnd.jupyter.widget-view+json": {
       "model_id": "b07c1345bae04404a390e8dbdbfce75a",
       "version_major": 2,
       "version_minor": 0
      },
      "text/plain": [
       "Windows:   0%|          | 0/10000 [00:00<?, ?it/s]"
      ]
     },
     "metadata": {},
     "output_type": "display_data"
    },
    {
     "data": {
      "application/vnd.jupyter.widget-view+json": {
       "model_id": "ea12a31721644293bd4c1edb5865888d",
       "version_major": 2,
       "version_minor": 0
      },
      "text/plain": [
       "Windows:   0%|          | 0/10000 [00:00<?, ?it/s]"
      ]
     },
     "metadata": {},
     "output_type": "display_data"
    },
    {
     "data": {
      "application/vnd.jupyter.widget-view+json": {
       "model_id": "b92d33bebd0f441ebd81576ac39bde33",
       "version_major": 2,
       "version_minor": 0
      },
      "text/plain": [
       "Windows:   0%|          | 0/10000 [00:00<?, ?it/s]"
      ]
     },
     "metadata": {},
     "output_type": "display_data"
    },
    {
     "data": {
      "application/vnd.jupyter.widget-view+json": {
       "model_id": "2b5adf646c1b42b290e981814dc2fb6d",
       "version_major": 2,
       "version_minor": 0
      },
      "text/plain": [
       "Windows:   0%|          | 0/10000 [00:00<?, ?it/s]"
      ]
     },
     "metadata": {},
     "output_type": "display_data"
    },
    {
     "data": {
      "application/vnd.jupyter.widget-view+json": {
       "model_id": "d7fa4b5bfaa64bc2847b4632217200af",
       "version_major": 2,
       "version_minor": 0
      },
      "text/plain": [
       "Windows:   0%|          | 0/10000 [00:00<?, ?it/s]"
      ]
     },
     "metadata": {},
     "output_type": "display_data"
    },
    {
     "data": {
      "application/vnd.jupyter.widget-view+json": {
       "model_id": "27a3f51bd79b4cf894623c97991d58c8",
       "version_major": 2,
       "version_minor": 0
      },
      "text/plain": [
       "Windows:   0%|          | 0/10000 [00:00<?, ?it/s]"
      ]
     },
     "metadata": {},
     "output_type": "display_data"
    },
    {
     "data": {
      "application/vnd.jupyter.widget-view+json": {
       "model_id": "cf70ed589d1748d9ac49a9765afadd5e",
       "version_major": 2,
       "version_minor": 0
      },
      "text/plain": [
       "Windows:   0%|          | 0/10000 [00:00<?, ?it/s]"
      ]
     },
     "metadata": {},
     "output_type": "display_data"
    },
    {
     "data": {
      "application/vnd.jupyter.widget-view+json": {
       "model_id": "639e1bbf6c8647caad864458665eee98",
       "version_major": 2,
       "version_minor": 0
      },
      "text/plain": [
       "Windows:   0%|          | 0/10000 [00:00<?, ?it/s]"
      ]
     },
     "metadata": {},
     "output_type": "display_data"
    },
    {
     "data": {
      "application/vnd.jupyter.widget-view+json": {
       "model_id": "93b25670f8dc40de895257572669d9eb",
       "version_major": 2,
       "version_minor": 0
      },
      "text/plain": [
       "Windows:   0%|          | 0/10000 [00:00<?, ?it/s]"
      ]
     },
     "metadata": {},
     "output_type": "display_data"
    },
    {
     "data": {
      "application/vnd.jupyter.widget-view+json": {
       "model_id": "3a14f31ed0994b9db41e99f09098ef73",
       "version_major": 2,
       "version_minor": 0
      },
      "text/plain": [
       "Windows:   0%|          | 0/10000 [00:00<?, ?it/s]"
      ]
     },
     "metadata": {},
     "output_type": "display_data"
    },
    {
     "data": {
      "application/vnd.jupyter.widget-view+json": {
       "model_id": "78dd991419f64ec3a3f903a283749c98",
       "version_major": 2,
       "version_minor": 0
      },
      "text/plain": [
       "Windows:   0%|          | 0/10000 [00:00<?, ?it/s]"
      ]
     },
     "metadata": {},
     "output_type": "display_data"
    },
    {
     "data": {
      "application/vnd.jupyter.widget-view+json": {
       "model_id": "222bf95deb814e3783545c2d1e0abe48",
       "version_major": 2,
       "version_minor": 0
      },
      "text/plain": [
       "Windows:   0%|          | 0/10000 [00:00<?, ?it/s]"
      ]
     },
     "metadata": {},
     "output_type": "display_data"
    },
    {
     "data": {
      "application/vnd.jupyter.widget-view+json": {
       "model_id": "8c9f22e7403d49e2971f20d18e5b5c4c",
       "version_major": 2,
       "version_minor": 0
      },
      "text/plain": [
       "Windows:   0%|          | 0/10000 [00:00<?, ?it/s]"
      ]
     },
     "metadata": {},
     "output_type": "display_data"
    },
    {
     "data": {
      "application/vnd.jupyter.widget-view+json": {
       "model_id": "4cdece5a23534ff7bd1008be89ede6e3",
       "version_major": 2,
       "version_minor": 0
      },
      "text/plain": [
       "Windows:   0%|          | 0/10000 [00:00<?, ?it/s]"
      ]
     },
     "metadata": {},
     "output_type": "display_data"
    },
    {
     "data": {
      "application/vnd.jupyter.widget-view+json": {
       "model_id": "267645e8a34344c1878b535f1dfe9c46",
       "version_major": 2,
       "version_minor": 0
      },
      "text/plain": [
       "Windows:   0%|          | 0/10000 [00:00<?, ?it/s]"
      ]
     },
     "metadata": {},
     "output_type": "display_data"
    },
    {
     "data": {
      "application/vnd.jupyter.widget-view+json": {
       "model_id": "873ac532ed314a58913fc605b0a60461",
       "version_major": 2,
       "version_minor": 0
      },
      "text/plain": [
       "Windows:   0%|          | 0/10000 [00:00<?, ?it/s]"
      ]
     },
     "metadata": {},
     "output_type": "display_data"
    },
    {
     "data": {
      "application/vnd.jupyter.widget-view+json": {
       "model_id": "2a1d0b351eb64333a0045bdcbe80e603",
       "version_major": 2,
       "version_minor": 0
      },
      "text/plain": [
       "Windows:   0%|          | 0/10000 [00:00<?, ?it/s]"
      ]
     },
     "metadata": {},
     "output_type": "display_data"
    },
    {
     "data": {
      "application/vnd.jupyter.widget-view+json": {
       "model_id": "4344344dcb254119bb806bd67301abcc",
       "version_major": 2,
       "version_minor": 0
      },
      "text/plain": [
       "Windows:   0%|          | 0/10000 [00:00<?, ?it/s]"
      ]
     },
     "metadata": {},
     "output_type": "display_data"
    },
    {
     "data": {
      "application/vnd.jupyter.widget-view+json": {
       "model_id": "ef9a756e88e346bd85873aee043144c7",
       "version_major": 2,
       "version_minor": 0
      },
      "text/plain": [
       "Windows:   0%|          | 0/10000 [00:00<?, ?it/s]"
      ]
     },
     "metadata": {},
     "output_type": "display_data"
    },
    {
     "data": {
      "application/vnd.jupyter.widget-view+json": {
       "model_id": "60c0620e94944cd2a70b168d35c30f75",
       "version_major": 2,
       "version_minor": 0
      },
      "text/plain": [
       "Windows:   0%|          | 0/10000 [00:00<?, ?it/s]"
      ]
     },
     "metadata": {},
     "output_type": "display_data"
    },
    {
     "data": {
      "application/vnd.jupyter.widget-view+json": {
       "model_id": "12affd7be45143b0aca0b3ffb2f2e370",
       "version_major": 2,
       "version_minor": 0
      },
      "text/plain": [
       "Windows:   0%|          | 0/10000 [00:00<?, ?it/s]"
      ]
     },
     "metadata": {},
     "output_type": "display_data"
    },
    {
     "data": {
      "application/vnd.jupyter.widget-view+json": {
       "model_id": "8a67aa3980794bdbb7f010caa5de61f9",
       "version_major": 2,
       "version_minor": 0
      },
      "text/plain": [
       "Windows:   0%|          | 0/10000 [00:00<?, ?it/s]"
      ]
     },
     "metadata": {},
     "output_type": "display_data"
    },
    {
     "data": {
      "application/vnd.jupyter.widget-view+json": {
       "model_id": "84ef82f48947437cb5f2713ecf465800",
       "version_major": 2,
       "version_minor": 0
      },
      "text/plain": [
       "Windows:   0%|          | 0/10000 [00:00<?, ?it/s]"
      ]
     },
     "metadata": {},
     "output_type": "display_data"
    },
    {
     "data": {
      "application/vnd.jupyter.widget-view+json": {
       "model_id": "475c941bc7ef4314924ed0ed2b67e3a6",
       "version_major": 2,
       "version_minor": 0
      },
      "text/plain": [
       "Windows:   0%|          | 0/10000 [00:00<?, ?it/s]"
      ]
     },
     "metadata": {},
     "output_type": "display_data"
    },
    {
     "data": {
      "application/vnd.jupyter.widget-view+json": {
       "model_id": "28e658db8fcc483ca5efea549d557f3b",
       "version_major": 2,
       "version_minor": 0
      },
      "text/plain": [
       "Windows:   0%|          | 0/10000 [00:00<?, ?it/s]"
      ]
     },
     "metadata": {},
     "output_type": "display_data"
    },
    {
     "data": {
      "application/vnd.jupyter.widget-view+json": {
       "model_id": "014310676e944b56807f77b512a2c687",
       "version_major": 2,
       "version_minor": 0
      },
      "text/plain": [
       "Windows:   0%|          | 0/10000 [00:00<?, ?it/s]"
      ]
     },
     "metadata": {},
     "output_type": "display_data"
    },
    {
     "data": {
      "application/vnd.jupyter.widget-view+json": {
       "model_id": "3168cdde5f0642c8a33dda2d77f910bb",
       "version_major": 2,
       "version_minor": 0
      },
      "text/plain": [
       "Windows:   0%|          | 0/10000 [00:00<?, ?it/s]"
      ]
     },
     "metadata": {},
     "output_type": "display_data"
    },
    {
     "data": {
      "application/vnd.jupyter.widget-view+json": {
       "model_id": "c0a2199bb9a54ec983d3871c9f80ef1a",
       "version_major": 2,
       "version_minor": 0
      },
      "text/plain": [
       "Windows:   0%|          | 0/10000 [00:00<?, ?it/s]"
      ]
     },
     "metadata": {},
     "output_type": "display_data"
    },
    {
     "data": {
      "application/vnd.jupyter.widget-view+json": {
       "model_id": "02808d1e2e1b485fb4ea3c4626e2e9cd",
       "version_major": 2,
       "version_minor": 0
      },
      "text/plain": [
       "Windows:   0%|          | 0/10000 [00:00<?, ?it/s]"
      ]
     },
     "metadata": {},
     "output_type": "display_data"
    },
    {
     "data": {
      "application/vnd.jupyter.widget-view+json": {
       "model_id": "c367011bd4b14baeb05e1d8a2ca39727",
       "version_major": 2,
       "version_minor": 0
      },
      "text/plain": [
       "Windows:   0%|          | 0/10000 [00:00<?, ?it/s]"
      ]
     },
     "metadata": {},
     "output_type": "display_data"
    },
    {
     "data": {
      "application/vnd.jupyter.widget-view+json": {
       "model_id": "d707669840c64db6a02325d3736e9740",
       "version_major": 2,
       "version_minor": 0
      },
      "text/plain": [
       "Windows:   0%|          | 0/10000 [00:00<?, ?it/s]"
      ]
     },
     "metadata": {},
     "output_type": "display_data"
    },
    {
     "data": {
      "application/vnd.jupyter.widget-view+json": {
       "model_id": "9d4bf41be1134533b0de436d19e76553",
       "version_major": 2,
       "version_minor": 0
      },
      "text/plain": [
       "Windows:   0%|          | 0/10000 [00:00<?, ?it/s]"
      ]
     },
     "metadata": {},
     "output_type": "display_data"
    },
    {
     "data": {
      "application/vnd.jupyter.widget-view+json": {
       "model_id": "14180e7df06042daadda25741728b553",
       "version_major": 2,
       "version_minor": 0
      },
      "text/plain": [
       "Windows:   0%|          | 0/10000 [00:00<?, ?it/s]"
      ]
     },
     "metadata": {},
     "output_type": "display_data"
    },
    {
     "data": {
      "application/vnd.jupyter.widget-view+json": {
       "model_id": "bbc2e705a7fb4deb9227ce47a7137932",
       "version_major": 2,
       "version_minor": 0
      },
      "text/plain": [
       "Windows:   0%|          | 0/10000 [00:00<?, ?it/s]"
      ]
     },
     "metadata": {},
     "output_type": "display_data"
    },
    {
     "data": {
      "application/vnd.jupyter.widget-view+json": {
       "model_id": "4c4c36d064e546bca2faf2fc6409d93c",
       "version_major": 2,
       "version_minor": 0
      },
      "text/plain": [
       "Windows:   0%|          | 0/10000 [00:00<?, ?it/s]"
      ]
     },
     "metadata": {},
     "output_type": "display_data"
    },
    {
     "data": {
      "application/vnd.jupyter.widget-view+json": {
       "model_id": "15a44d844507421c9e012dfb584b28d3",
       "version_major": 2,
       "version_minor": 0
      },
      "text/plain": [
       "Windows:   0%|          | 0/10000 [00:00<?, ?it/s]"
      ]
     },
     "metadata": {},
     "output_type": "display_data"
    },
    {
     "data": {
      "application/vnd.jupyter.widget-view+json": {
       "model_id": "f2a8305e32c54629961c53b46d10a3a4",
       "version_major": 2,
       "version_minor": 0
      },
      "text/plain": [
       "Windows:   0%|          | 0/10000 [00:00<?, ?it/s]"
      ]
     },
     "metadata": {},
     "output_type": "display_data"
    },
    {
     "data": {
      "application/vnd.jupyter.widget-view+json": {
       "model_id": "6729a108feed47a784294df35e3ef05c",
       "version_major": 2,
       "version_minor": 0
      },
      "text/plain": [
       "Windows:   0%|          | 0/10000 [00:00<?, ?it/s]"
      ]
     },
     "metadata": {},
     "output_type": "display_data"
    },
    {
     "data": {
      "application/vnd.jupyter.widget-view+json": {
       "model_id": "6c9afa9437b045e1871bf754ce83734c",
       "version_major": 2,
       "version_minor": 0
      },
      "text/plain": [
       "Windows:   0%|          | 0/10000 [00:00<?, ?it/s]"
      ]
     },
     "metadata": {},
     "output_type": "display_data"
    },
    {
     "data": {
      "application/vnd.jupyter.widget-view+json": {
       "model_id": "127dc63ff30143fcac466a159bd99bd4",
       "version_major": 2,
       "version_minor": 0
      },
      "text/plain": [
       "Windows:   0%|          | 0/10000 [00:00<?, ?it/s]"
      ]
     },
     "metadata": {},
     "output_type": "display_data"
    },
    {
     "data": {
      "application/vnd.jupyter.widget-view+json": {
       "model_id": "4a7baf9696914ba6b9bb95fa1af06505",
       "version_major": 2,
       "version_minor": 0
      },
      "text/plain": [
       "Windows:   0%|          | 0/10000 [00:00<?, ?it/s]"
      ]
     },
     "metadata": {},
     "output_type": "display_data"
    },
    {
     "data": {
      "application/vnd.jupyter.widget-view+json": {
       "model_id": "f68ae0bdb127425badee352227691d4e",
       "version_major": 2,
       "version_minor": 0
      },
      "text/plain": [
       "Windows:   0%|          | 0/10000 [00:00<?, ?it/s]"
      ]
     },
     "metadata": {},
     "output_type": "display_data"
    },
    {
     "data": {
      "application/vnd.jupyter.widget-view+json": {
       "model_id": "52abc03b5cb141a282252084a26320d5",
       "version_major": 2,
       "version_minor": 0
      },
      "text/plain": [
       "Windows:   0%|          | 0/10000 [00:00<?, ?it/s]"
      ]
     },
     "metadata": {},
     "output_type": "display_data"
    },
    {
     "data": {
      "application/vnd.jupyter.widget-view+json": {
       "model_id": "12185041e6d842e49dca1f165dd4b2f1",
       "version_major": 2,
       "version_minor": 0
      },
      "text/plain": [
       "Windows:   0%|          | 0/10000 [00:00<?, ?it/s]"
      ]
     },
     "metadata": {},
     "output_type": "display_data"
    },
    {
     "data": {
      "application/vnd.jupyter.widget-view+json": {
       "model_id": "cf552f8602e948a58c3d243a53d174f2",
       "version_major": 2,
       "version_minor": 0
      },
      "text/plain": [
       "Windows:   0%|          | 0/10000 [00:00<?, ?it/s]"
      ]
     },
     "metadata": {},
     "output_type": "display_data"
    },
    {
     "data": {
      "application/vnd.jupyter.widget-view+json": {
       "model_id": "e11dfe3e80d04a5f9a0c0b0fe01c1150",
       "version_major": 2,
       "version_minor": 0
      },
      "text/plain": [
       "Windows:   0%|          | 0/10000 [00:00<?, ?it/s]"
      ]
     },
     "metadata": {},
     "output_type": "display_data"
    },
    {
     "data": {
      "application/vnd.jupyter.widget-view+json": {
       "model_id": "ad33569c965342e3a66213a7151d8740",
       "version_major": 2,
       "version_minor": 0
      },
      "text/plain": [
       "Windows:   0%|          | 0/10000 [00:00<?, ?it/s]"
      ]
     },
     "metadata": {},
     "output_type": "display_data"
    },
    {
     "data": {
      "application/vnd.jupyter.widget-view+json": {
       "model_id": "d3eddfa5eddb49309acc7e8387bd7313",
       "version_major": 2,
       "version_minor": 0
      },
      "text/plain": [
       "Windows:   0%|          | 0/10000 [00:00<?, ?it/s]"
      ]
     },
     "metadata": {},
     "output_type": "display_data"
    },
    {
     "data": {
      "application/vnd.jupyter.widget-view+json": {
       "model_id": "7ad7f5e31860411a9761f21fc7a9ffa8",
       "version_major": 2,
       "version_minor": 0
      },
      "text/plain": [
       "Windows:   0%|          | 0/10000 [00:00<?, ?it/s]"
      ]
     },
     "metadata": {},
     "output_type": "display_data"
    },
    {
     "data": {
      "application/vnd.jupyter.widget-view+json": {
       "model_id": "e9bf29362a0b423dbf63be0abb6faab7",
       "version_major": 2,
       "version_minor": 0
      },
      "text/plain": [
       "Windows:   0%|          | 0/10000 [00:00<?, ?it/s]"
      ]
     },
     "metadata": {},
     "output_type": "display_data"
    },
    {
     "data": {
      "application/vnd.jupyter.widget-view+json": {
       "model_id": "8ad6d83b4f4a45428aecf3b93120f5a8",
       "version_major": 2,
       "version_minor": 0
      },
      "text/plain": [
       "Windows:   0%|          | 0/10000 [00:00<?, ?it/s]"
      ]
     },
     "metadata": {},
     "output_type": "display_data"
    },
    {
     "data": {
      "application/vnd.jupyter.widget-view+json": {
       "model_id": "994bae54018a461f8a07e080bc8d7d2a",
       "version_major": 2,
       "version_minor": 0
      },
      "text/plain": [
       "Windows:   0%|          | 0/10000 [00:00<?, ?it/s]"
      ]
     },
     "metadata": {},
     "output_type": "display_data"
    },
    {
     "data": {
      "application/vnd.jupyter.widget-view+json": {
       "model_id": "c1dec90918cd436586df3989da017c0c",
       "version_major": 2,
       "version_minor": 0
      },
      "text/plain": [
       "Windows:   0%|          | 0/10000 [00:00<?, ?it/s]"
      ]
     },
     "metadata": {},
     "output_type": "display_data"
    },
    {
     "data": {
      "application/vnd.jupyter.widget-view+json": {
       "model_id": "83361bdc14ac4e5c96764ff7d048d550",
       "version_major": 2,
       "version_minor": 0
      },
      "text/plain": [
       "Windows:   0%|          | 0/10000 [00:00<?, ?it/s]"
      ]
     },
     "metadata": {},
     "output_type": "display_data"
    },
    {
     "data": {
      "application/vnd.jupyter.widget-view+json": {
       "model_id": "d9352d7004e1468bae9fa605b401bc43",
       "version_major": 2,
       "version_minor": 0
      },
      "text/plain": [
       "Windows:   0%|          | 0/10000 [00:00<?, ?it/s]"
      ]
     },
     "metadata": {},
     "output_type": "display_data"
    },
    {
     "data": {
      "application/vnd.jupyter.widget-view+json": {
       "model_id": "7b8ca09bca0e4e6fbfcd9cd15013069e",
       "version_major": 2,
       "version_minor": 0
      },
      "text/plain": [
       "Windows:   0%|          | 0/10000 [00:00<?, ?it/s]"
      ]
     },
     "metadata": {},
     "output_type": "display_data"
    },
    {
     "data": {
      "application/vnd.jupyter.widget-view+json": {
       "model_id": "4644a6d1f8534087b381d86ae17c92cd",
       "version_major": 2,
       "version_minor": 0
      },
      "text/plain": [
       "Windows:   0%|          | 0/10000 [00:00<?, ?it/s]"
      ]
     },
     "metadata": {},
     "output_type": "display_data"
    },
    {
     "data": {
      "application/vnd.jupyter.widget-view+json": {
       "model_id": "e7b00851215145a5b46d19a180025491",
       "version_major": 2,
       "version_minor": 0
      },
      "text/plain": [
       "Windows:   0%|          | 0/10000 [00:00<?, ?it/s]"
      ]
     },
     "metadata": {},
     "output_type": "display_data"
    },
    {
     "data": {
      "application/vnd.jupyter.widget-view+json": {
       "model_id": "7e2755baf667402a99080b848ee52754",
       "version_major": 2,
       "version_minor": 0
      },
      "text/plain": [
       "Windows:   0%|          | 0/10000 [00:00<?, ?it/s]"
      ]
     },
     "metadata": {},
     "output_type": "display_data"
    },
    {
     "data": {
      "application/vnd.jupyter.widget-view+json": {
       "model_id": "105a5ce39e0e467695f1f30bfe6299d7",
       "version_major": 2,
       "version_minor": 0
      },
      "text/plain": [
       "Windows:   0%|          | 0/10000 [00:00<?, ?it/s]"
      ]
     },
     "metadata": {},
     "output_type": "display_data"
    },
    {
     "data": {
      "application/vnd.jupyter.widget-view+json": {
       "model_id": "cf08b5109d794339acab4c3cf71ea5cb",
       "version_major": 2,
       "version_minor": 0
      },
      "text/plain": [
       "Windows:   0%|          | 0/10000 [00:00<?, ?it/s]"
      ]
     },
     "metadata": {},
     "output_type": "display_data"
    },
    {
     "data": {
      "application/vnd.jupyter.widget-view+json": {
       "model_id": "62860d81cb8a4982a15d5ec40219cc1e",
       "version_major": 2,
       "version_minor": 0
      },
      "text/plain": [
       "Windows:   0%|          | 0/10000 [00:00<?, ?it/s]"
      ]
     },
     "metadata": {},
     "output_type": "display_data"
    },
    {
     "data": {
      "application/vnd.jupyter.widget-view+json": {
       "model_id": "90182f65c5ad462dbd4ad227063cc686",
       "version_major": 2,
       "version_minor": 0
      },
      "text/plain": [
       "Windows:   0%|          | 0/10000 [00:00<?, ?it/s]"
      ]
     },
     "metadata": {},
     "output_type": "display_data"
    },
    {
     "data": {
      "application/vnd.jupyter.widget-view+json": {
       "model_id": "23dd95f344ec4346a7fd7819395f273f",
       "version_major": 2,
       "version_minor": 0
      },
      "text/plain": [
       "Windows:   0%|          | 0/10000 [00:00<?, ?it/s]"
      ]
     },
     "metadata": {},
     "output_type": "display_data"
    },
    {
     "data": {
      "application/vnd.jupyter.widget-view+json": {
       "model_id": "949e99ff8beb4dc6abf71edc841455c8",
       "version_major": 2,
       "version_minor": 0
      },
      "text/plain": [
       "Windows:   0%|          | 0/10000 [00:00<?, ?it/s]"
      ]
     },
     "metadata": {},
     "output_type": "display_data"
    },
    {
     "data": {
      "application/vnd.jupyter.widget-view+json": {
       "model_id": "4ce821f19e7b43c0a5d91ebf8ee62050",
       "version_major": 2,
       "version_minor": 0
      },
      "text/plain": [
       "Windows:   0%|          | 0/10000 [00:00<?, ?it/s]"
      ]
     },
     "metadata": {},
     "output_type": "display_data"
    },
    {
     "data": {
      "application/vnd.jupyter.widget-view+json": {
       "model_id": "09ae683125c54203a11d7de0f77d0ca0",
       "version_major": 2,
       "version_minor": 0
      },
      "text/plain": [
       "Windows:   0%|          | 0/10000 [00:00<?, ?it/s]"
      ]
     },
     "metadata": {},
     "output_type": "display_data"
    },
    {
     "data": {
      "application/vnd.jupyter.widget-view+json": {
       "model_id": "d34170d345004c319a732ed6c89cca1b",
       "version_major": 2,
       "version_minor": 0
      },
      "text/plain": [
       "Windows:   0%|          | 0/10000 [00:00<?, ?it/s]"
      ]
     },
     "metadata": {},
     "output_type": "display_data"
    },
    {
     "data": {
      "application/vnd.jupyter.widget-view+json": {
       "model_id": "e8a53d1c2e2745f1b9dd9f246c99e714",
       "version_major": 2,
       "version_minor": 0
      },
      "text/plain": [
       "Windows:   0%|          | 0/10000 [00:00<?, ?it/s]"
      ]
     },
     "metadata": {},
     "output_type": "display_data"
    },
    {
     "data": {
      "application/vnd.jupyter.widget-view+json": {
       "model_id": "b0521a237816416eb98687850f6fd2d5",
       "version_major": 2,
       "version_minor": 0
      },
      "text/plain": [
       "Windows:   0%|          | 0/10000 [00:00<?, ?it/s]"
      ]
     },
     "metadata": {},
     "output_type": "display_data"
    },
    {
     "data": {
      "application/vnd.jupyter.widget-view+json": {
       "model_id": "5a3bf43830d041ea847f20c790a13635",
       "version_major": 2,
       "version_minor": 0
      },
      "text/plain": [
       "Windows:   0%|          | 0/10000 [00:00<?, ?it/s]"
      ]
     },
     "metadata": {},
     "output_type": "display_data"
    },
    {
     "data": {
      "application/vnd.jupyter.widget-view+json": {
       "model_id": "43d37b6bd40741d2affa5ba404d1101d",
       "version_major": 2,
       "version_minor": 0
      },
      "text/plain": [
       "Windows:   0%|          | 0/10000 [00:00<?, ?it/s]"
      ]
     },
     "metadata": {},
     "output_type": "display_data"
    },
    {
     "data": {
      "application/vnd.jupyter.widget-view+json": {
       "model_id": "48d8ecc89cde4f29a79327b488cd8266",
       "version_major": 2,
       "version_minor": 0
      },
      "text/plain": [
       "Windows:   0%|          | 0/10000 [00:00<?, ?it/s]"
      ]
     },
     "metadata": {},
     "output_type": "display_data"
    },
    {
     "data": {
      "application/vnd.jupyter.widget-view+json": {
       "model_id": "bb5091e65d6d4ce18b325f445028fa2a",
       "version_major": 2,
       "version_minor": 0
      },
      "text/plain": [
       "Windows:   0%|          | 0/10000 [00:00<?, ?it/s]"
      ]
     },
     "metadata": {},
     "output_type": "display_data"
    },
    {
     "data": {
      "application/vnd.jupyter.widget-view+json": {
       "model_id": "91d7a89d64784830af9921539efa13d4",
       "version_major": 2,
       "version_minor": 0
      },
      "text/plain": [
       "Windows:   0%|          | 0/10000 [00:00<?, ?it/s]"
      ]
     },
     "metadata": {},
     "output_type": "display_data"
    },
    {
     "data": {
      "application/vnd.jupyter.widget-view+json": {
       "model_id": "945d5dbbf628482d98ac973821d60a98",
       "version_major": 2,
       "version_minor": 0
      },
      "text/plain": [
       "Windows:   0%|          | 0/10000 [00:00<?, ?it/s]"
      ]
     },
     "metadata": {},
     "output_type": "display_data"
    },
    {
     "data": {
      "application/vnd.jupyter.widget-view+json": {
       "model_id": "7599c0f659aa43358a4a58a2879775b2",
       "version_major": 2,
       "version_minor": 0
      },
      "text/plain": [
       "Windows:   0%|          | 0/10000 [00:00<?, ?it/s]"
      ]
     },
     "metadata": {},
     "output_type": "display_data"
    },
    {
     "data": {
      "application/vnd.jupyter.widget-view+json": {
       "model_id": "e660722e1e674e1fbbe9935505a683ea",
       "version_major": 2,
       "version_minor": 0
      },
      "text/plain": [
       "Windows:   0%|          | 0/10000 [00:00<?, ?it/s]"
      ]
     },
     "metadata": {},
     "output_type": "display_data"
    },
    {
     "data": {
      "application/vnd.jupyter.widget-view+json": {
       "model_id": "fbffbb043ca445538c7fa2423b884d5b",
       "version_major": 2,
       "version_minor": 0
      },
      "text/plain": [
       "Windows:   0%|          | 0/10000 [00:00<?, ?it/s]"
      ]
     },
     "metadata": {},
     "output_type": "display_data"
    },
    {
     "data": {
      "application/vnd.jupyter.widget-view+json": {
       "model_id": "74438924ac284bf2a7f104cf2d484879",
       "version_major": 2,
       "version_minor": 0
      },
      "text/plain": [
       "Windows:   0%|          | 0/10000 [00:00<?, ?it/s]"
      ]
     },
     "metadata": {},
     "output_type": "display_data"
    },
    {
     "data": {
      "application/vnd.jupyter.widget-view+json": {
       "model_id": "e4a3b2245568465a9cd4f740928d9ee2",
       "version_major": 2,
       "version_minor": 0
      },
      "text/plain": [
       "Windows:   0%|          | 0/10000 [00:00<?, ?it/s]"
      ]
     },
     "metadata": {},
     "output_type": "display_data"
    },
    {
     "data": {
      "application/vnd.jupyter.widget-view+json": {
       "model_id": "82686cfe3ad241359c1d84ab01ad7dab",
       "version_major": 2,
       "version_minor": 0
      },
      "text/plain": [
       "Windows:   0%|          | 0/10000 [00:00<?, ?it/s]"
      ]
     },
     "metadata": {},
     "output_type": "display_data"
    },
    {
     "data": {
      "application/vnd.jupyter.widget-view+json": {
       "model_id": "a6f956b622754c8ab3cc95336b4cbb02",
       "version_major": 2,
       "version_minor": 0
      },
      "text/plain": [
       "Windows:   0%|          | 0/10000 [00:00<?, ?it/s]"
      ]
     },
     "metadata": {},
     "output_type": "display_data"
    },
    {
     "data": {
      "application/vnd.jupyter.widget-view+json": {
       "model_id": "6a1b72b919b04a558911e65fd565db08",
       "version_major": 2,
       "version_minor": 0
      },
      "text/plain": [
       "Windows:   0%|          | 0/10000 [00:00<?, ?it/s]"
      ]
     },
     "metadata": {},
     "output_type": "display_data"
    },
    {
     "data": {
      "application/vnd.jupyter.widget-view+json": {
       "model_id": "9de18f650bb741c08481e9b3a492d887",
       "version_major": 2,
       "version_minor": 0
      },
      "text/plain": [
       "Windows:   0%|          | 0/10000 [00:00<?, ?it/s]"
      ]
     },
     "metadata": {},
     "output_type": "display_data"
    },
    {
     "data": {
      "application/vnd.jupyter.widget-view+json": {
       "model_id": "68e9f143242f41ac8e22b8d51d70f365",
       "version_major": 2,
       "version_minor": 0
      },
      "text/plain": [
       "Windows:   0%|          | 0/10000 [00:00<?, ?it/s]"
      ]
     },
     "metadata": {},
     "output_type": "display_data"
    },
    {
     "data": {
      "application/vnd.jupyter.widget-view+json": {
       "model_id": "f2cbd3355fac4629b1c1aaa893182a47",
       "version_major": 2,
       "version_minor": 0
      },
      "text/plain": [
       "Windows:   0%|          | 0/10000 [00:00<?, ?it/s]"
      ]
     },
     "metadata": {},
     "output_type": "display_data"
    },
    {
     "data": {
      "application/vnd.jupyter.widget-view+json": {
       "model_id": "d24a399711f34e149e5af1718ecb8cc9",
       "version_major": 2,
       "version_minor": 0
      },
      "text/plain": [
       "Windows:   0%|          | 0/2866 [00:00<?, ?it/s]"
      ]
     },
     "metadata": {},
     "output_type": "display_data"
    },
    {
     "data": {
      "application/vnd.jupyter.widget-view+json": {
       "model_id": "275ccb7776314fd48f04d39c9cd39d9a",
       "version_major": 2,
       "version_minor": 0
      },
      "text/plain": [
       "Chunks:   0%|          | 0/14 [00:00<?, ?it/s]"
      ]
     },
     "metadata": {},
     "output_type": "display_data"
    },
    {
     "data": {
      "application/vnd.jupyter.widget-view+json": {
       "model_id": "777385ce7a5c497a9afc000f616641ac",
       "version_major": 2,
       "version_minor": 0
      },
      "text/plain": [
       "Windows:   0%|          | 0/10000 [00:00<?, ?it/s]"
      ]
     },
     "metadata": {},
     "output_type": "display_data"
    },
    {
     "data": {
      "application/vnd.jupyter.widget-view+json": {
       "model_id": "66f800edb72a4908be06ab3cdedc9cff",
       "version_major": 2,
       "version_minor": 0
      },
      "text/plain": [
       "Windows:   0%|          | 0/10000 [00:00<?, ?it/s]"
      ]
     },
     "metadata": {},
     "output_type": "display_data"
    },
    {
     "data": {
      "application/vnd.jupyter.widget-view+json": {
       "model_id": "db662335da5e46cd955a43f51c879a0e",
       "version_major": 2,
       "version_minor": 0
      },
      "text/plain": [
       "Windows:   0%|          | 0/10000 [00:00<?, ?it/s]"
      ]
     },
     "metadata": {},
     "output_type": "display_data"
    },
    {
     "data": {
      "application/vnd.jupyter.widget-view+json": {
       "model_id": "1122e8d4f19d40a89f1622121116f887",
       "version_major": 2,
       "version_minor": 0
      },
      "text/plain": [
       "Windows:   0%|          | 0/10000 [00:00<?, ?it/s]"
      ]
     },
     "metadata": {},
     "output_type": "display_data"
    },
    {
     "data": {
      "application/vnd.jupyter.widget-view+json": {
       "model_id": "a1bac4109a4d4a31b299e06b74603ae9",
       "version_major": 2,
       "version_minor": 0
      },
      "text/plain": [
       "Windows:   0%|          | 0/10000 [00:00<?, ?it/s]"
      ]
     },
     "metadata": {},
     "output_type": "display_data"
    },
    {
     "data": {
      "application/vnd.jupyter.widget-view+json": {
       "model_id": "a4a4a4f24ebc40b2a27f58954b8838a1",
       "version_major": 2,
       "version_minor": 0
      },
      "text/plain": [
       "Windows:   0%|          | 0/10000 [00:00<?, ?it/s]"
      ]
     },
     "metadata": {},
     "output_type": "display_data"
    },
    {
     "data": {
      "application/vnd.jupyter.widget-view+json": {
       "model_id": "a96389b327a04f218b452fb77f36a1ad",
       "version_major": 2,
       "version_minor": 0
      },
      "text/plain": [
       "Windows:   0%|          | 0/10000 [00:00<?, ?it/s]"
      ]
     },
     "metadata": {},
     "output_type": "display_data"
    },
    {
     "data": {
      "application/vnd.jupyter.widget-view+json": {
       "model_id": "1c5be8d85a0d47f5b8705057282a9b64",
       "version_major": 2,
       "version_minor": 0
      },
      "text/plain": [
       "Windows:   0%|          | 0/10000 [00:00<?, ?it/s]"
      ]
     },
     "metadata": {},
     "output_type": "display_data"
    },
    {
     "data": {
      "application/vnd.jupyter.widget-view+json": {
       "model_id": "ccb553bf387a4612a9bd4cddb6d2b908",
       "version_major": 2,
       "version_minor": 0
      },
      "text/plain": [
       "Windows:   0%|          | 0/10000 [00:00<?, ?it/s]"
      ]
     },
     "metadata": {},
     "output_type": "display_data"
    },
    {
     "data": {
      "application/vnd.jupyter.widget-view+json": {
       "model_id": "b195d7e81a8b4439b7b3ca1c7a8e2e6a",
       "version_major": 2,
       "version_minor": 0
      },
      "text/plain": [
       "Windows:   0%|          | 0/10000 [00:00<?, ?it/s]"
      ]
     },
     "metadata": {},
     "output_type": "display_data"
    },
    {
     "data": {
      "application/vnd.jupyter.widget-view+json": {
       "model_id": "6b6da4c0f620439380196280f912927e",
       "version_major": 2,
       "version_minor": 0
      },
      "text/plain": [
       "Windows:   0%|          | 0/10000 [00:00<?, ?it/s]"
      ]
     },
     "metadata": {},
     "output_type": "display_data"
    },
    {
     "data": {
      "application/vnd.jupyter.widget-view+json": {
       "model_id": "58f854d3f95f4b80a463c412fcab0347",
       "version_major": 2,
       "version_minor": 0
      },
      "text/plain": [
       "Windows:   0%|          | 0/10000 [00:00<?, ?it/s]"
      ]
     },
     "metadata": {},
     "output_type": "display_data"
    },
    {
     "data": {
      "application/vnd.jupyter.widget-view+json": {
       "model_id": "48c801fd7b064e6fa6008a55395ad3c3",
       "version_major": 2,
       "version_minor": 0
      },
      "text/plain": [
       "Windows:   0%|          | 0/10000 [00:00<?, ?it/s]"
      ]
     },
     "metadata": {},
     "output_type": "display_data"
    },
    {
     "data": {
      "application/vnd.jupyter.widget-view+json": {
       "model_id": "84faae41a1cd43bfa1f59e769e73f775",
       "version_major": 2,
       "version_minor": 0
      },
      "text/plain": [
       "Windows:   0%|          | 0/8465 [00:00<?, ?it/s]"
      ]
     },
     "metadata": {},
     "output_type": "display_data"
    },
    {
     "data": {
      "image/png": "[encoded data removed]",
      "text/plain": [
       "<PIL.PngImagePlugin.PngImageFile image mode=RGB size=64x64>"
      ]
     },
     "execution_count": 10,
     "metadata": {},
     "output_type": "execute_result"
    }
   ],
   "source": [
    "%pdb on\n",
    "import PIL\n",
    "# Setup directories\n",
    "data_root = root\n",
    "size = 'all'\n",
    "if size == 'small':\n",
    "  starcraft_segment_dir = os.path.join(data_root, subdir, 'segment_small')\n",
    "  MAX_PER_CHUNK = 1000 # To avoid 65536 cap for 32 bit systems\n",
    "  MAX_CHUNKS = 10\n",
    "elif size == 'all':\n",
    "  starcraft_segment_dir = os.path.join(data_root, subdir, 'segment')\n",
    "  MAX_PER_CHUNK = 10000\n",
    "  MAX_CHUNKS = torch.inf\n",
    "\n",
    "train_test = [os.path.join(starcraft_segment_dir, 'train'), os.path.join(starcraft_segment_dir, 'test')]\n",
    "image_dirs = [os.path.join(f, 'images') for f in train_test]\n",
    "label_dirs = [os.path.join(f, 'labels') for f in train_test]\n",
    "for d in [starcraft_segment_dir, *train_test, *image_dirs, *label_dirs]:\n",
    "  if not os.path.exists(d):\n",
    "    os.mkdir(d)\n",
    "    \n",
    "# Save the dataset as PNG images\n",
    "from tqdm.notebook import tqdm\n",
    "print('Warning: Probably should use window_idx instead of frame_idx but using frame_idx for now.')\n",
    "for dataset, image_dir, label_dir in tqdm(zip([sc2_train, sc2_test], image_dirs, label_dirs), total=2, desc='Datasets'):\n",
    "  idx = 0\n",
    "  n_chunks = min(MAX_CHUNKS, int(torch.tensor(len(dataset)/MAX_PER_CHUNK).ceil()))\n",
    "  for chunk_idx in tqdm(range(n_chunks), desc='Chunks'):\n",
    "    chunk_image_dir = os.path.join(image_dir, f'{chunk_idx:02d}')\n",
    "    chunk_label_dir = os.path.join(label_dir, f'{chunk_idx:02d}')\n",
    "    for d in [chunk_image_dir, chunk_label_dir]:\n",
    "      if not os.path.exists(d):\n",
    "        os.mkdir(d)\n",
    "    \n",
    "    n_windows_left = len(dataset) - idx\n",
    "    for _ in tqdm(range(min(n_windows_left, MAX_PER_CHUNK)), desc='Windows'):\n",
    "      # Get replay and frame number for filename\n",
    "      frame_idx = dataset.metadata.iloc[idx]['dynamic.frame_idx']\n",
    "      replay_name = os.path.splitext(dataset.metadata.iloc[idx]['static.replay_name'])[0]\n",
    "\n",
    "      # Construct filenames\n",
    "      image_filename = os.path.join(chunk_image_dir, f'{replay_name}_{frame_idx}.png')\n",
    "      label_filename = os.path.join(chunk_label_dir, f'{replay_name}_{frame_idx}_labels.png')\n",
    "      \n",
    "      # Only create if does not exist yet\n",
    "      if not os.path.exists(image_filename):\n",
    "        # Get data\n",
    "        image, labels = get_sc2_image_and_unit_ids(dataset, idx)\n",
    "\n",
    "        # Convert to PIL images\n",
    "        # needs to be in (H, W, C) and uint8\n",
    "        pil_image = PIL.Image.fromarray(image.permute(1, 2, 0).type(torch.uint8).numpy())\n",
    "        labels_arr = labels.permute(1, 2, 0).type(torch.uint8).numpy()\n",
    "        pil_labels = PIL.Image.fromarray(labels.squeeze(0).type(torch.uint8).numpy())\n",
    "\n",
    "        # Save data as PNG files\n",
    "        pil_image.save(image_filename)\n",
    "        pil_labels.save(label_filename)\n",
    "\n",
    "      # Always increment idx\n",
    "      idx += 1\n",
    "      #break # 1 image\n",
    "    #break # 1 chunk\n",
    "PIL.Image.open(image_filename)"
   ]
  }
 ],
 "metadata": {
  "kernelspec": {
   "display_name": "Python 3 (ipykernel)",
   "language": "python",
   "name": "python3"
  },
  "language_info": {
   "codemirror_mode": {
    "name": "ipython",
    "version": 3
   },
   "file_extension": ".py",
   "mimetype": "text/x-python",
   "name": "python",
   "nbconvert_exporter": "python",
   "pygments_lexer": "ipython3",
   "version": "3.7.13"
  }
 },
 "nbformat": 4,
 "nbformat_minor": 1
}
